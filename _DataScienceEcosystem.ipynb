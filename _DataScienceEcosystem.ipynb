{
 "cells": [
  {
   "cell_type": "markdown",
   "id": "e7eedcb3-173b-4690-a2da-49939ccc2456",
   "metadata": {},
   "source": [
    "# Data Science Tools and Ecosystem"
   ]
  },
  {
   "cell_type": "markdown",
   "id": "b7005048-6286-4baa-8ab0-534f620b4941",
   "metadata": {},
   "source": [
    "## Author\n",
    "Luci Benedict"
   ]
  },
  {
   "cell_type": "markdown",
   "id": "ae9e3d9b-1690-4a8f-9c9b-3c3b39b3b102",
   "metadata": {},
   "source": [
    "In this notebook, Data Science Tools and an Ecosystem are summarized."
   ]
  },
  {
   "cell_type": "markdown",
   "id": "51f87a8c-6bda-425f-9b45-24268ebe5df4",
   "metadata": {},
   "source": [
    " **Objectives**\n",
    " * List populare data science languages\n",
    " * List common data science libraries\n",
    " * Show some simple artihmetic expressions in Python"
   ]
  },
  {
   "cell_type": "markdown",
   "id": "133536b5-6b35-483a-9e05-e5f00c370a33",
   "metadata": {},
   "source": [
    "Some of the popular languages that Data Scientists use are: \n",
    "1. Python\n",
    "2. R \n",
    "3. Julia\n",
    "4. SQL"
   ]
  },
  {
   "cell_type": "markdown",
   "id": "9177faac-96ab-4062-8af6-1c788614fc0d",
   "metadata": {},
   "source": [
    "Some commonly used libraries used by Data Scientists include: \n",
    "1. Pandas\n",
    "2. Numpy\n",
    "3. Matlib\n",
    "4. Keras\n"
   ]
  },
  {
   "cell_type": "markdown",
   "id": "fee7dba4-fdb5-45d4-8772-792a9bd671d5",
   "metadata": {},
   "source": [
    "| Data Science Tools |\n",
    "| ----------------|\n",
    "| Python |\n",
    "| TensorFlow | \n",
    "| R |"
   ]
  },
  {
   "cell_type": "markdown",
   "id": "b9c14886-9a98-4aa2-88ee-a9bced45c5fe",
   "metadata": {},
   "source": [
    "### Below are a few simple examples of evaluating arithmetic expressions in Python"
   ]
  },
  {
   "cell_type": "code",
   "execution_count": 2,
   "id": "abf63035-1de9-4940-88f3-411261003f4a",
   "metadata": {},
   "outputs": [
    {
     "data": {
      "text/plain": [
       "17"
      ]
     },
     "execution_count": 2,
     "metadata": {},
     "output_type": "execute_result"
    }
   ],
   "source": [
    "# This is a simple arithmetic expression to multiply then add integers\n",
    "(3*4)+5"
   ]
  },
  {
   "cell_type": "code",
   "execution_count": 3,
   "id": "1741e8df-3ccc-416a-b4f6-e01c792083ab",
   "metadata": {},
   "outputs": [
    {
     "data": {
      "text/plain": [
       "3.3333333333333335"
      ]
     },
     "execution_count": 3,
     "metadata": {},
     "output_type": "execute_result"
    }
   ],
   "source": [
    "# This will convert 200 minutes to hours by dividing minutes by 60\n",
    "200/60"
   ]
  },
  {
   "cell_type": "code",
   "execution_count": null,
   "id": "93cb218a-8f02-4aad-ba92-6fe8a0405835",
   "metadata": {},
   "outputs": [],
   "source": []
  }
 ],
 "metadata": {
  "kernelspec": {
   "display_name": "Python 3 (ipykernel)",
   "language": "python",
   "name": "python3"
  },
  "language_info": {
   "codemirror_mode": {
    "name": "ipython",
    "version": 3
   },
   "file_extension": ".py",
   "mimetype": "text/x-python",
   "name": "python",
   "nbconvert_exporter": "python",
   "pygments_lexer": "ipython3",
   "version": "3.9.13"
  }
 },
 "nbformat": 4,
 "nbformat_minor": 5
}
